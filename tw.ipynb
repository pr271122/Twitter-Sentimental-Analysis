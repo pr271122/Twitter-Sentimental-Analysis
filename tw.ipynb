{
 "cells": [
  {
   "cell_type": "code",
   "execution_count": 1,
   "id": "9b723e9d",
   "metadata": {},
   "outputs": [
    {
     "name": "stderr",
     "output_type": "stream",
     "text": [
      "[nltk_data] Downloading package stopwords to C:\\Users\\Jinay\n",
      "[nltk_data]     Shah\\AppData\\Roaming\\nltk_data...\n",
      "[nltk_data]   Package stopwords is already up-to-date!\n"
     ]
    },
    {
     "name": "stdout",
     "output_type": "stream",
     "text": [
      "Enter Keyword/Tag to search about: Brahmashtra\n",
      "Enter how many tweets to search: 50\n",
      "How do you want to see pie or bar chart \n",
      "1. Pie\n",
      "2. Bar\n",
      "1\n"
     ]
    },
    {
     "data": {
      "text/plain": [
       "<Figure size 1152x1152 with 0 Axes>"
      ]
     },
     "metadata": {},
     "output_type": "display_data"
    },
    {
     "data": {
      "image/png": "[encoded data removed]",
      "text/plain": [
       "<Figure size 576x576 with 1 Axes>"
      ]
     },
     "metadata": {},
     "output_type": "display_data"
    }
   ],
   "source": [
    "import pandas as pd\n",
    "import matplotlib.pyplot as plt\n",
    "import nltk\n",
    "from nltk.corpus import stopwords\n",
    "from sklearn.feature_extraction.text import CountVectorizer\n",
    "from sklearn.naive_bayes import BernoulliNB\n",
    "import tweepy\n",
    "import warnings\n",
    "warnings.filterwarnings('ignore')\n",
    "nltk.download('stopwords')\n",
    "stop = stopwords.words('english')\n",
    "# ------------------------------------- Inserting Data ------------------------------------\n",
    "read = pd.read_csv(\"training.csv\",names = [\"target\", \"ids\", \"date\", \"flag\", \"user\", \"text\"])\n",
    "# ------------------------------------- Twitter tweets ------------------------------------\n",
    "consumerKey = 'ha5WeZWCvDIh0CXScpNpDn7y1'\n",
    "consumerSecret = '1l3tciA5MgrjU675tHSTHv08cCTMHRMkBXxQWjAkiCqF66Qhfw'\n",
    "accessToken = '963415868-TZqxvLp8IF5ThWsDMSZGUb6bfosMmdsEeGxMZrCU'\n",
    "accessTokenSecret = '7ge4JM4E6WyVloaMlb4vGIjBZd2PRjSPGCleoth7xm4kv'\n",
    "# ------------------------------------- Authentication Done -------------------------------\n",
    "auth = tweepy.OAuthHandler(consumerKey, consumerSecret)\n",
    "auth.set_access_token(accessToken, accessTokenSecret)\n",
    "api = tweepy.API(auth)\n",
    "# ------------------------------------- Appending to Dataframe -------------------------------\n",
    "new_df = list(read['text'])\n",
    "# ------------------------------------ input for term to be searched and how many tweets to search --------------------\n",
    "searchTerm = input(\"Enter Keyword/Tag to search about: \")\n",
    "NoOfTerms = int(input(\"Enter how many tweets to search: \"))\n",
    "# ------------------------------------ Keyword will be searched on twitter --------------------\n",
    "tweets = tweepy.Cursor(api.search_tweets,q=searchTerm,lang=\"en\",).items(NoOfTerms)\n",
    "# ----------------------------------- Storing into a list -----------------------------------\n",
    "unfiltered = []\n",
    "for x,i in enumerate(tweets):\n",
    "    unfiltered.append(i.text)\n",
    "    new_df.append(i.text)\n",
    "unfiltered = pd.DataFrame(unfiltered)\n",
    "unfiltered.to_csv('unfiltered.csv',header=False,mode='w',index=False)\n",
    "# ----------------------------------- Filtering Data --------------------------------------------\n",
    "new_df = pd.DataFrame(new_df,columns=['text'])\n",
    "new_df['text'] = new_df['text'].replace(to_replace ='(@[\\w]+)', value ='', regex = True)          \n",
    "# new_df['text'] = new_df['text'].replace(to_replace =('RT'), value ='',regex = True)               \n",
    "new_df['text'] = new_df['text'].str.replace('((www\\.[\\s]+)|(https?://[^\\s]+))','\\0',regex=True)   \n",
    "new_df['text'] = new_df['text'].str.replace(\"[^a-zA-Z]+\", \" \")                                   \n",
    "new_df[\"text\"] = new_df[\"text\"].str.lower()                                                       \n",
    "new_df[\"text\"] = new_df[\"text\"].str.split()                                                       \n",
    "new_df['text'] = new_df['text'].apply(lambda x: [item for item in x if item not in stop])         \n",
    "tweeeeets = new_df[-NoOfTerms:]\n",
    "# ------------------------------------ Selecting last tweets as user wished ---------------------\n",
    "def rejoin_words(row):\n",
    "    my_list = row['text']\n",
    "    joined_words = ( \" \".join(my_list))\n",
    "    return joined_words\n",
    "new_df['text'] = new_df.apply(rejoin_words, axis=1)\n",
    "vectorizer=CountVectorizer(max_df=0.95,min_df=2,max_features=10000,ngram_range=(1,3),stop_words='english')\n",
    "x=vectorizer.fit_transform(new_df['text'])\n",
    "new_df_vectorized = vectorizer.fit_transform(new_df['text'])\n",
    "# ----------------------------------- spiliting Data ------------------------\n",
    "xtrain = new_df_vectorized[:-NoOfTerms]\n",
    "xtest = new_df_vectorized[-NoOfTerms:]\n",
    "ytrain = read['target']\n",
    "bern = BernoulliNB()\n",
    "# --------------------------------- Applying Algorithm -----------------------\n",
    "bern.fit(xtrain,ytrain)\n",
    "ypredict = bern.predict(xtest)\n",
    "count_negative,count_positive = 0,0\n",
    "for i in range(len(ypredict)):\n",
    "    if ypredict[i] == 0:\n",
    "        count_negative+=1\n",
    "    else:\n",
    "        count_positive+=1\n",
    "neg_per = count_positive/len(ypredict)*100\n",
    "pos_per = count_negative/len(ypredict)*100\n",
    "tweeeeets.to_csv('Tweets.csv',header=False,index=False,mode='w')\n",
    "plt.figure(figsize=(16,16))\n",
    "user_input = int(input(\"How do you want to see pie or bar chart \\n1. Pie\\n2. Bar\\n\"))\n",
    "plt.figure(figsize=(8,8),)\n",
    "plt.ylim((0,100))\n",
    "if user_input == 1:\n",
    "    if neg_per == 0:\n",
    "        plt.pie([pos_per],data =[pos_per],labels=['Postive tweets'],colors = ['green'],autopct='%1.1f%%')\n",
    "    elif pos_per == 0:\n",
    "        plt.pie([neg_per,],data =[neg_per,],labels=['Negative Tweets',],colors = ['red',],autopct='%.1f%%')\n",
    "    else:\n",
    "        plt.pie([neg_per,pos_per],data = [neg_per,pos_per],labels=['Negative Tweets','Postive tweets'],colors = ['red','green'],autopct='%1.1f%%')\n",
    "elif user_input == 2:\n",
    "    plt.bar(['Negative Percentage','Positve Percentage'],[neg_per,pos_per],color = ['red','green'])\n",
    "    for i,x in zip(['Negative Percentage','Positve Percentage'],[neg_per,pos_per]):\n",
    "        plt.text(i,x+5,x,size=15)\n",
    "plt.savefig('Answer.jpg')\n",
    "plt.show()\n"
   ]
  },
  {
   "cell_type": "code",
   "execution_count": null,
   "id": "5e0966ed",
   "metadata": {},
   "outputs": [],
   "source": []
  }
 ],
 "metadata": {
  "kernelspec": {
   "display_name": "Python 3 (ipykernel)",
   "language": "python",
   "name": "python3"
  },
  "language_info": {
   "codemirror_mode": {
    "name": "ipython",
    "version": 3
   },
   "file_extension": ".py",
   "mimetype": "text/x-python",
   "name": "python",
   "nbconvert_exporter": "python",
   "pygments_lexer": "ipython3",
   "version": "3.9.7"
  }
 },
 "nbformat": 4,
 "nbformat_minor": 5
}
